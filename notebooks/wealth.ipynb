{
 "cells": [
  {
   "cell_type": "code",
   "execution_count": 143,
   "metadata": {},
   "outputs": [],
   "source": [
    "from pathlib import Path\n",
    "\n",
    "import numpy as np\n",
    "import pandas as pd\n",
    "import xarray as xr\n",
    "import geopandas as gpd\n",
    "import matplotlib\n",
    "import matplotlib.pyplot as plt\n",
    "from shapely.geometry import MultiPoint\n",
    "\n",
    "DATA_DIR = Path(\"../data/processed\")\n",
    "MODEL_DIR = Path(\"../models\")\n",
    "\n",
    "data = pd.read_csv(DATA_DIR / \"income_tax_record_1880.csv\")"
   ]
  },
  {
   "cell_type": "code",
   "execution_count": 144,
   "metadata": {},
   "outputs": [
    {
     "data": {
      "text/plain": [
       "0.704"
      ]
     },
     "execution_count": 144,
     "metadata": {},
     "output_type": "execute_result"
    }
   ],
   "source": [
    "# Gini coefficent\n",
    "\n",
    "def gini(x: np.ndarray) -> float:\n",
    "    incomes = np.sort(x) / x.sum()\n",
    "    g = 1 - 2 * np.sum(incomes.cumsum() / x.shape[0])\n",
    "    return np.round(g, 3)\n",
    "\n",
    "gini(data.total_income)"
   ]
  },
  {
   "cell_type": "code",
   "execution_count": 150,
   "metadata": {},
   "outputs": [],
   "source": [
    "# Percentiles\n",
    "\n",
    "percentiles, bins = pd.qcut(data.total_income, 10, duplicates='drop', retbins=True,)\n",
    "data['percentiles'] = percentiles\n",
    "crosstab = pd.crosstab(index=data.district, columns=data.percentiles)\n",
    "crosstab_pct = pd.crosstab(index=data.district, columns=data.percentiles, normalize='index').round(3) * 100"
   ]
  },
  {
   "cell_type": "code",
   "execution_count": 151,
   "metadata": {},
   "outputs": [
    {
     "data": {
      "text/html": [
       "<div>\n",
       "<style scoped>\n",
       "    .dataframe tbody tr th:only-of-type {\n",
       "        vertical-align: middle;\n",
       "    }\n",
       "\n",
       "    .dataframe tbody tr th {\n",
       "        vertical-align: top;\n",
       "    }\n",
       "\n",
       "    .dataframe thead th {\n",
       "        text-align: right;\n",
       "    }\n",
       "</style>\n",
       "<table border=\"1\" class=\"dataframe\">\n",
       "  <thead>\n",
       "    <tr style=\"text-align: right;\">\n",
       "      <th>percentiles</th>\n",
       "      <th>(-0.001, 1.0]</th>\n",
       "      <th>(1.0, 2.0]</th>\n",
       "      <th>(2.0, 4.0]</th>\n",
       "      <th>(4.0, 10.0]</th>\n",
       "      <th>(10.0, 562.0]</th>\n",
       "    </tr>\n",
       "    <tr>\n",
       "      <th>district</th>\n",
       "      <th></th>\n",
       "      <th></th>\n",
       "      <th></th>\n",
       "      <th></th>\n",
       "      <th></th>\n",
       "    </tr>\n",
       "  </thead>\n",
       "  <tbody>\n",
       "    <tr>\n",
       "      <th>Valli</th>\n",
       "      <td>279</td>\n",
       "      <td>132</td>\n",
       "      <td>84</td>\n",
       "      <td>112</td>\n",
       "      <td>153</td>\n",
       "    </tr>\n",
       "    <tr>\n",
       "      <th>Pietarin_esikaupunki</th>\n",
       "      <td>543</td>\n",
       "      <td>125</td>\n",
       "      <td>104</td>\n",
       "      <td>88</td>\n",
       "      <td>44</td>\n",
       "    </tr>\n",
       "    <tr>\n",
       "      <th>Viipurin_esikaupunki</th>\n",
       "      <td>123</td>\n",
       "      <td>52</td>\n",
       "      <td>48</td>\n",
       "      <td>28</td>\n",
       "      <td>25</td>\n",
       "    </tr>\n",
       "  </tbody>\n",
       "</table>\n",
       "</div>"
      ],
      "text/plain": [
       "percentiles           (-0.001, 1.0]  (1.0, 2.0]  (2.0, 4.0]  (4.0, 10.0]  \\\n",
       "district                                                                   \n",
       "Valli                           279         132          84          112   \n",
       "Pietarin_esikaupunki            543         125         104           88   \n",
       "Viipurin_esikaupunki            123          52          48           28   \n",
       "\n",
       "percentiles           (10.0, 562.0]  \n",
       "district                             \n",
       "Valli                           153  \n",
       "Pietarin_esikaupunki             44  \n",
       "Viipurin_esikaupunki             25  "
      ]
     },
     "execution_count": 151,
     "metadata": {},
     "output_type": "execute_result"
    }
   ],
   "source": [
    "crosstab.loc[['Valli', 'Pietarin_esikaupunki', 'Viipurin_esikaupunki']].iloc[:,-10:] # top 10 percentiles"
   ]
  },
  {
   "cell_type": "code",
   "execution_count": 152,
   "metadata": {},
   "outputs": [
    {
     "data": {
      "text/html": [
       "<div>\n",
       "<style scoped>\n",
       "    .dataframe tbody tr th:only-of-type {\n",
       "        vertical-align: middle;\n",
       "    }\n",
       "\n",
       "    .dataframe tbody tr th {\n",
       "        vertical-align: top;\n",
       "    }\n",
       "\n",
       "    .dataframe thead th {\n",
       "        text-align: right;\n",
       "    }\n",
       "</style>\n",
       "<table border=\"1\" class=\"dataframe\">\n",
       "  <thead>\n",
       "    <tr style=\"text-align: right;\">\n",
       "      <th>percentiles</th>\n",
       "      <th>(-0.001, 1.0]</th>\n",
       "      <th>(1.0, 2.0]</th>\n",
       "      <th>(2.0, 4.0]</th>\n",
       "      <th>(4.0, 10.0]</th>\n",
       "      <th>(10.0, 562.0]</th>\n",
       "    </tr>\n",
       "    <tr>\n",
       "      <th>district</th>\n",
       "      <th></th>\n",
       "      <th></th>\n",
       "      <th></th>\n",
       "      <th></th>\n",
       "      <th></th>\n",
       "    </tr>\n",
       "  </thead>\n",
       "  <tbody>\n",
       "    <tr>\n",
       "      <th>Valli</th>\n",
       "      <td>36.7</td>\n",
       "      <td>17.4</td>\n",
       "      <td>11.1</td>\n",
       "      <td>14.7</td>\n",
       "      <td>20.1</td>\n",
       "    </tr>\n",
       "    <tr>\n",
       "      <th>Pietarin_esikaupunki</th>\n",
       "      <td>60.1</td>\n",
       "      <td>13.8</td>\n",
       "      <td>11.5</td>\n",
       "      <td>9.7</td>\n",
       "      <td>4.9</td>\n",
       "    </tr>\n",
       "    <tr>\n",
       "      <th>Viipurin_esikaupunki</th>\n",
       "      <td>44.6</td>\n",
       "      <td>18.8</td>\n",
       "      <td>17.4</td>\n",
       "      <td>10.1</td>\n",
       "      <td>9.1</td>\n",
       "    </tr>\n",
       "  </tbody>\n",
       "</table>\n",
       "</div>"
      ],
      "text/plain": [
       "percentiles           (-0.001, 1.0]  (1.0, 2.0]  (2.0, 4.0]  (4.0, 10.0]  \\\n",
       "district                                                                   \n",
       "Valli                          36.7        17.4        11.1         14.7   \n",
       "Pietarin_esikaupunki           60.1        13.8        11.5          9.7   \n",
       "Viipurin_esikaupunki           44.6        18.8        17.4         10.1   \n",
       "\n",
       "percentiles           (10.0, 562.0]  \n",
       "district                             \n",
       "Valli                          20.1  \n",
       "Pietarin_esikaupunki            4.9  \n",
       "Viipurin_esikaupunki            9.1  "
      ]
     },
     "execution_count": 152,
     "metadata": {},
     "output_type": "execute_result"
    }
   ],
   "source": [
    "crosstab_pct.loc[['Valli', 'Pietarin_esikaupunki', 'Viipurin_esikaupunki']].iloc[:,-10:]"
   ]
  },
  {
   "cell_type": "code",
   "execution_count": 153,
   "metadata": {},
   "outputs": [
    {
     "data": {
      "text/plain": [
       "<AxesSubplot: ylabel='district'>"
      ]
     },
     "execution_count": 153,
     "metadata": {},
     "output_type": "execute_result"
    },
    {
     "data": {
      "image/png": "[encoded data removed]",
      "text/plain": [
       "<Figure size 640x480 with 1 Axes>"
      ]
     },
     "metadata": {},
     "output_type": "display_data"
    }
   ],
   "source": [
    "crosstab_pct.loc[['Valli', 'Pietarin_esikaupunki', 'Viipurin_esikaupunki']].plot(kind='barh', stacked=True)"
   ]
  }
 ],
 "metadata": {
  "kernelspec": {
   "display_name": "socio-ethnic_segregation",
   "language": "python",
   "name": "python3"
  },
  "language_info": {
   "codemirror_mode": {
    "name": "ipython",
    "version": 3
   },
   "file_extension": ".py",
   "mimetype": "text/x-python",
   "name": "python",
   "nbconvert_exporter": "python",
   "pygments_lexer": "ipython3",
   "version": "3.11.0"
  },
  "orig_nbformat": 4,
  "vscode": {
   "interpreter": {
    "hash": "c6f6ad1d89260850848b48f3bc4432e78364cda8546f5a5e66bc8fb56dd3ebe1"
   }
  }
 },
 "nbformat": 4,
 "nbformat_minor": 2
}
