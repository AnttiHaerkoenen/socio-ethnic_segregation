{
 "cells": [
  {
   "cell_type": "code",
   "execution_count": 158,
   "metadata": {},
   "outputs": [],
   "source": [
    "from pathlib import Path\n",
    "\n",
    "import numpy as np\n",
    "import pandas as pd\n",
    "import xarray as xr\n",
    "import geopandas as gpd\n",
    "import matplotlib\n",
    "import matplotlib.pyplot as plt\n",
    "from shapely.geometry import MultiPoint\n",
    "\n",
    "DATA_DIR = Path(\"../data/processed\")\n",
    "MODEL_DIR = Path(\"../models\")\n",
    "\n",
    "data = pd.read_csv(DATA_DIR / \"income_tax_record_1880.csv\")"
   ]
  },
  {
   "cell_type": "code",
   "execution_count": 159,
   "metadata": {},
   "outputs": [
    {
     "data": {
      "text/plain": [
       "0.704"
      ]
     },
     "execution_count": 159,
     "metadata": {},
     "output_type": "execute_result"
    }
   ],
   "source": [
    "# Gini coefficent\n",
    "\n",
    "def gini(x: np.ndarray) -> float:\n",
    "    incomes = np.sort(x) / x.sum()\n",
    "    g = 1 - 2 * np.sum(incomes.cumsum() / x.shape[0])\n",
    "    return np.round(g, 3)\n",
    "\n",
    "gini(data.total_income)"
   ]
  },
  {
   "cell_type": "code",
   "execution_count": 160,
   "metadata": {},
   "outputs": [],
   "source": [
    "# Percentiles\n",
    "\n",
    "percentiles, bins = pd.qcut(data.total_income, 20, duplicates='drop', retbins=True,)\n",
    "data['percentiles'] = percentiles\n",
    "crosstab = pd.crosstab(index=data.district, columns=data.percentiles)\n",
    "crosstab_pct = pd.crosstab(index=data.district, columns=data.percentiles, normalize='index').round(3) * 100"
   ]
  },
  {
   "cell_type": "code",
   "execution_count": 161,
   "metadata": {},
   "outputs": [
    {
     "data": {
      "text/html": [
       "<div>\n",
       "<style scoped>\n",
       "    .dataframe tbody tr th:only-of-type {\n",
       "        vertical-align: middle;\n",
       "    }\n",
       "\n",
       "    .dataframe tbody tr th {\n",
       "        vertical-align: top;\n",
       "    }\n",
       "\n",
       "    .dataframe thead th {\n",
       "        text-align: right;\n",
       "    }\n",
       "</style>\n",
       "<table border=\"1\" class=\"dataframe\">\n",
       "  <thead>\n",
       "    <tr style=\"text-align: right;\">\n",
       "      <th>percentiles</th>\n",
       "      <th>(-0.001, 1.0]</th>\n",
       "      <th>(1.0, 2.0]</th>\n",
       "      <th>(2.0, 3.0]</th>\n",
       "      <th>(3.0, 4.0]</th>\n",
       "      <th>(4.0, 6.0]</th>\n",
       "      <th>(6.0, 10.0]</th>\n",
       "      <th>(10.0, 20.0]</th>\n",
       "      <th>(20.0, 562.0]</th>\n",
       "    </tr>\n",
       "    <tr>\n",
       "      <th>district</th>\n",
       "      <th></th>\n",
       "      <th></th>\n",
       "      <th></th>\n",
       "      <th></th>\n",
       "      <th></th>\n",
       "      <th></th>\n",
       "      <th></th>\n",
       "      <th></th>\n",
       "    </tr>\n",
       "  </thead>\n",
       "  <tbody>\n",
       "    <tr>\n",
       "      <th>Valli</th>\n",
       "      <td>279</td>\n",
       "      <td>132</td>\n",
       "      <td>59</td>\n",
       "      <td>25</td>\n",
       "      <td>41</td>\n",
       "      <td>71</td>\n",
       "      <td>63</td>\n",
       "      <td>90</td>\n",
       "    </tr>\n",
       "    <tr>\n",
       "      <th>Pietarin_esikaupunki</th>\n",
       "      <td>543</td>\n",
       "      <td>125</td>\n",
       "      <td>65</td>\n",
       "      <td>39</td>\n",
       "      <td>48</td>\n",
       "      <td>40</td>\n",
       "      <td>33</td>\n",
       "      <td>11</td>\n",
       "    </tr>\n",
       "    <tr>\n",
       "      <th>Viipurin_esikaupunki</th>\n",
       "      <td>123</td>\n",
       "      <td>52</td>\n",
       "      <td>35</td>\n",
       "      <td>13</td>\n",
       "      <td>14</td>\n",
       "      <td>14</td>\n",
       "      <td>15</td>\n",
       "      <td>10</td>\n",
       "    </tr>\n",
       "  </tbody>\n",
       "</table>\n",
       "</div>"
      ],
      "text/plain": [
       "percentiles           (-0.001, 1.0]  (1.0, 2.0]  (2.0, 3.0]  (3.0, 4.0]  \\\n",
       "district                                                                  \n",
       "Valli                           279         132          59          25   \n",
       "Pietarin_esikaupunki            543         125          65          39   \n",
       "Viipurin_esikaupunki            123          52          35          13   \n",
       "\n",
       "percentiles           (4.0, 6.0]  (6.0, 10.0]  (10.0, 20.0]  (20.0, 562.0]  \n",
       "district                                                                    \n",
       "Valli                         41           71            63             90  \n",
       "Pietarin_esikaupunki          48           40            33             11  \n",
       "Viipurin_esikaupunki          14           14            15             10  "
      ]
     },
     "execution_count": 161,
     "metadata": {},
     "output_type": "execute_result"
    }
   ],
   "source": [
    "crosstab.loc[['Valli', 'Pietarin_esikaupunki', 'Viipurin_esikaupunki']]"
   ]
  },
  {
   "cell_type": "code",
   "execution_count": 162,
   "metadata": {},
   "outputs": [
    {
     "data": {
      "text/html": [
       "<div>\n",
       "<style scoped>\n",
       "    .dataframe tbody tr th:only-of-type {\n",
       "        vertical-align: middle;\n",
       "    }\n",
       "\n",
       "    .dataframe tbody tr th {\n",
       "        vertical-align: top;\n",
       "    }\n",
       "\n",
       "    .dataframe thead th {\n",
       "        text-align: right;\n",
       "    }\n",
       "</style>\n",
       "<table border=\"1\" class=\"dataframe\">\n",
       "  <thead>\n",
       "    <tr style=\"text-align: right;\">\n",
       "      <th>percentiles</th>\n",
       "      <th>(-0.001, 1.0]</th>\n",
       "      <th>(1.0, 2.0]</th>\n",
       "      <th>(2.0, 3.0]</th>\n",
       "      <th>(3.0, 4.0]</th>\n",
       "      <th>(4.0, 6.0]</th>\n",
       "      <th>(6.0, 10.0]</th>\n",
       "      <th>(10.0, 20.0]</th>\n",
       "      <th>(20.0, 562.0]</th>\n",
       "    </tr>\n",
       "    <tr>\n",
       "      <th>district</th>\n",
       "      <th></th>\n",
       "      <th></th>\n",
       "      <th></th>\n",
       "      <th></th>\n",
       "      <th></th>\n",
       "      <th></th>\n",
       "      <th></th>\n",
       "      <th></th>\n",
       "    </tr>\n",
       "  </thead>\n",
       "  <tbody>\n",
       "    <tr>\n",
       "      <th>Valli</th>\n",
       "      <td>36.7</td>\n",
       "      <td>17.4</td>\n",
       "      <td>7.8</td>\n",
       "      <td>3.3</td>\n",
       "      <td>5.4</td>\n",
       "      <td>9.3</td>\n",
       "      <td>8.3</td>\n",
       "      <td>11.8</td>\n",
       "    </tr>\n",
       "    <tr>\n",
       "      <th>Pietarin_esikaupunki</th>\n",
       "      <td>60.1</td>\n",
       "      <td>13.8</td>\n",
       "      <td>7.2</td>\n",
       "      <td>4.3</td>\n",
       "      <td>5.3</td>\n",
       "      <td>4.4</td>\n",
       "      <td>3.7</td>\n",
       "      <td>1.2</td>\n",
       "    </tr>\n",
       "    <tr>\n",
       "      <th>Viipurin_esikaupunki</th>\n",
       "      <td>44.6</td>\n",
       "      <td>18.8</td>\n",
       "      <td>12.7</td>\n",
       "      <td>4.7</td>\n",
       "      <td>5.1</td>\n",
       "      <td>5.1</td>\n",
       "      <td>5.4</td>\n",
       "      <td>3.6</td>\n",
       "    </tr>\n",
       "  </tbody>\n",
       "</table>\n",
       "</div>"
      ],
      "text/plain": [
       "percentiles           (-0.001, 1.0]  (1.0, 2.0]  (2.0, 3.0]  (3.0, 4.0]  \\\n",
       "district                                                                  \n",
       "Valli                          36.7        17.4         7.8         3.3   \n",
       "Pietarin_esikaupunki           60.1        13.8         7.2         4.3   \n",
       "Viipurin_esikaupunki           44.6        18.8        12.7         4.7   \n",
       "\n",
       "percentiles           (4.0, 6.0]  (6.0, 10.0]  (10.0, 20.0]  (20.0, 562.0]  \n",
       "district                                                                    \n",
       "Valli                        5.4          9.3           8.3           11.8  \n",
       "Pietarin_esikaupunki         5.3          4.4           3.7            1.2  \n",
       "Viipurin_esikaupunki         5.1          5.1           5.4            3.6  "
      ]
     },
     "execution_count": 162,
     "metadata": {},
     "output_type": "execute_result"
    }
   ],
   "source": [
    "crosstab_pct.loc[['Valli', 'Pietarin_esikaupunki', 'Viipurin_esikaupunki']]"
   ]
  },
  {
   "cell_type": "code",
   "execution_count": 165,
   "metadata": {},
   "outputs": [
    {
     "data": {
      "text/plain": [
       "<AxesSubplot: ylabel='district'>"
      ]
     },
     "execution_count": 165,
     "metadata": {},
     "output_type": "execute_result"
    },
    {
     "data": {
      "image/png": "[encoded data removed]",
      "text/plain": [
       "<Figure size 640x480 with 1 Axes>"
      ]
     },
     "metadata": {},
     "output_type": "display_data"
    }
   ],
   "source": [
    "crosstab_pct.loc[['Valli', 'Pietarin_esikaupunki', 'Viipurin_esikaupunki']].plot(kind='barh', stacked=True)"
   ]
  }
 ],
 "metadata": {
  "kernelspec": {
   "display_name": "socio-ethnic_segregation",
   "language": "python",
   "name": "python3"
  },
  "language_info": {
   "codemirror_mode": {
    "name": "ipython",
    "version": 3
   },
   "file_extension": ".py",
   "mimetype": "text/x-python",
   "name": "python",
   "nbconvert_exporter": "python",
   "pygments_lexer": "ipython3",
   "version": "3.11.0"
  },
  "orig_nbformat": 4,
  "vscode": {
   "interpreter": {
    "hash": "c6f6ad1d89260850848b48f3bc4432e78364cda8546f5a5e66bc8fb56dd3ebe1"
   }
  }
 },
 "nbformat": 4,
 "nbformat_minor": 2
}
