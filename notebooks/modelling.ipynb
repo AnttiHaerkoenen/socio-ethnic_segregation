{
 "cells": [
  {
   "cell_type": "code",
   "execution_count": null,
   "metadata": {
    "collapsed": true
   },
   "outputs": [],
   "source": [
    "from pathlib import Path\n",
    "\n",
    "import numpy as np\n",
    "import arviz as az\n",
    "import pymc as pm\n",
    "import pandas as pd\n",
    "import xarray as xr\n",
    "import geopandas as gpd\n",
    "import matplotlib.pyplot as plt\n",
    "from pandas.plotting import scatter_matrix\n",
    "from scipy.spatial import distance_matrix\n",
    "from sklearn.cluster import KMeans\n",
    "\n",
    "DATA_DIR = Path(\"../data/processed\")\n",
    "MODEL_DIR = Path(\"../models\")\n",
    "\n",
    "data = gpd.read_file(DATA_DIR / \"spatial_income_1880.gpkg\")\n",
    "data[\"is_old\"] = data.is_old.astype(int)\n",
    "data = data.drop(index=data[data.population < 5].index).dropna().reset_index()\n",
    "xy = np.array([data.geometry.x, data.geometry.y]).T\n",
    "d = distance_matrix(xy, xy)\n",
    "d_norm = d / d.max()\n",
    "n = data.shape[0]\n",
    "\n",
    "SEED = 42\n",
    "N_CLUSTERS = len(data.group.unique())"
   ]
  },
  {
   "cell_type": "code",
   "execution_count": null,
   "metadata": {},
   "outputs": [],
   "source": [
    "fig, (ax_1, ax_2, ax_3) = plt.subplots(\n",
    "    3, 1, figsize=(8, 24), subplot_kw={\"xticks\": [], \"yticks\": []}\n",
    ")\n",
    "data.plot(\n",
    "    column=\"lutheran\",\n",
    "    cmap=\"Reds\",\n",
    "    legend=True,\n",
    "    ax=ax_1,\n",
    ")\n",
    "data.plot(\n",
    "    column=\"orthodox_proportion\",\n",
    "    cmap=\"Reds\",\n",
    "    legend=True,\n",
    "    ax=ax_2,\n",
    ")\n",
    "data.plot(\n",
    "    column=\"total_income_ln\",\n",
    "    cmap=\"Reds\",\n",
    "    legend=True,\n",
    "    ax=ax_3,\n",
    ")\n",
    "fig.tight_layout()\n",
    "plt.show()"
   ]
  },
  {
   "cell_type": "code",
   "execution_count": null,
   "metadata": {},
   "outputs": [],
   "source": [
    "with pm.Model() as model_1:\n",
    "    W = pm.MutableData(\"W\", data.total_income_ln)\n",
    "\n",
    "    β_P = pm.MvNormal(\n",
    "        \"β_P\", np.array([0, 0]), np.array(np.diagflat([0.1, 0.1])), shape=3\n",
    "    )\n",
    "    μ_P = β_P[0] + β_P[1] * W\n",
    "    σ_P = pm.Exponential(\"σ_P\", 1)\n",
    "    P = pm.Normal(\"P\", mu=μ_P, sigma=σ_P, observed=data.lutheran)\n",
    "\n",
    "    β_O = pm.MvNormal(\n",
    "        \"β_O\", np.array([0, 0]), np.array(np.diagflat([0.1, 0.1])), shape=3\n",
    "    )\n",
    "\n",
    "    μ_O = β_O[0] + β_O[1] * W\n",
    "    σ_O = pm.Exponential(\"σ_O\", 1)\n",
    "    O = pm.Normal(\"O\", mu=μ_O, sigma=σ_O, observed=data.orthodox_proportion)\n",
    "\n",
    "    prior_1 = pm.sample_prior_predictive()\n",
    "    posterior_1 = pm.sample(init=\"adapt_diag\", return_inferencedata=True)\n",
    "    posterior_prediction_1 = pm.sample_posterior_predictive(posterior_1)"
   ]
  },
  {
   "cell_type": "code",
   "execution_count": null,
   "metadata": {},
   "outputs": [],
   "source": [
    "graph_1 = pm.model_to_graphviz(model_1)\n",
    "graph_1"
   ]
  },
  {
   "cell_type": "code",
   "execution_count": null,
   "metadata": {},
   "outputs": [],
   "source": [
    "# az.plot_posterior(posterior_1)\n",
    "az.plot_trace(posterior_1)\n",
    "az.plot_forest(posterior_1, combined=False, hdi_prob=0.94)\n",
    "\n",
    "az.plot_ppc(posterior_prediction_1)"
   ]
  },
  {
   "cell_type": "markdown",
   "metadata": {},
   "source": [
    "# Clustering"
   ]
  },
  {
   "cell_type": "code",
   "execution_count": null,
   "metadata": {
    "collapsed": false
   },
   "outputs": [],
   "source": [
    "cluster_colors = plt.get_cmap(\"tab20\")\n",
    "data.explore(\n",
    "    column=\"group\",\n",
    "    categorical=True,\n",
    "    cmap=cluster_colors,\n",
    "    marker_kwds=dict(fill=True, radius=5),\n",
    "    legend=True,\n",
    ")"
   ]
  },
  {
   "cell_type": "code",
   "execution_count": null,
   "metadata": {},
   "outputs": [],
   "source": [
    "data.plot(\n",
    "    kind='scatter', x='total_income_ln', y='orthodox_proportion', c='group', cmap='tab20', figsize=(12, 12),\n",
    ")\n",
    "# for i in sorted(data.group.unique()):\n",
    "    # data.loc[data.group == i, :].plot(kind='scatter', x='total_income_ln', y='orthodox_proportion')\n",
    "    # plt.title(i)\n",
    "    # plt.show()"
   ]
  },
  {
   "cell_type": "markdown",
   "metadata": {
    "collapsed": false
   },
   "source": [
    "# Final model with 12 geographical clusters (K-means)\n",
    "\n",
    "$$ P_i \\sim N(μ_{P,i}, σ_P), i = 0, 1, ... 846 $$\n",
    "$$ O_i \\sim N(μ_{O,i}, σ_O), i = 0, 1, ... 846 $$\n",
    "$$ mi_{P,i} = [1 \\; W]  β_{P,k[i]}, i = 0, 1, ... 846, k = 0, 1, ... 11 $$\n",
    "$$ μ_{O,i} = [1 \\; W]  β_{O,k[i]}, i = 0, 1, ... 846, k = 0, 1, ... 11 $$\n",
    "$$ σ_P \\sim Exp(1) $$\n",
    "$$ σ_O \\sim Exp(1) $$\n",
    "$$ β_{P,k} \\sim MvNormal \\left( θ_P, \\begin{bmatrix} 0.01 & 0 \\\\ 0 & 0.01 \\end{bmatrix} \\right), k = 0, 1, ... 11 $$\n",
    "$$ β_{O,k} \\sim MvNormal \\left( θ_O, \\begin{bmatrix} 0.01 & 0 \\\\ 0 & 0.01 \\end{bmatrix} \\right), k = 0, 1, ... 11 $$\n",
    "$$ θ_{P} \\sim MvNormal \\left( \\begin{bmatrix} 0 \\\\ 0 \\end{bmatrix}, \\begin{bmatrix} 0.1 & 0 \\\\ 0 & 0.1 \\end{bmatrix} \\right) $$\n",
    "$$ θ_{O} \\sim MvNormal \\left( \\begin{bmatrix} 0 \\\\ 0 \\\\ 0 \\end{bmatrix}, \\begin{bmatrix} 0.1 & 0 \\\\ 0 & 0.1 \\end{bmatrix} \\right) $$\n",
    "where W is Component 3, i indicates the cadastral plot, and k[i] the cluster of the cadastral plot"
   ]
  },
  {
   "cell_type": "code",
   "execution_count": null,
   "metadata": {},
   "outputs": [],
   "source": [
    "with pm.Model() as model_2:\n",
    "    W = pm.MutableData(\"W\", data.total_income_ln)\n",
    "    idx = data.group\n",
    "\n",
    "    θ_P = pm.Normal('θ_P', 100, 10)\n",
    "    θ_O = pm.Normal('θ_O', 0.01, 10)\n",
    "\n",
    "    # gaussian process?\n",
    "\n",
    "    μ_P = pm.MvNormal(\n",
    "        \"μ_P\", θ_P, R_P, shape=N_CLUSTERS,\n",
    "    )\n",
    "    μ_O = pm.MvNormal(\n",
    "        \"μ_O\", θ_O, R_O, shape=N_CLUSTERS,\n",
    "    )\n",
    "\n",
    "    σ_P = pm.Exponential(\"σ_P\", 1)\n",
    "    P = pm.Normal(\"P\", mu=μ_P, sigma=σ_P, observed=data.lutheran)\n",
    "\n",
    "    σ_O = pm.Exponential(\"σ_O\", 1)\n",
    "    O = pm.Normal(\"O\", mu=μ_O, sigma=σ_O, observed=data.orthodox_proportion_ln)\n",
    "\n",
    "    prior_2 = pm.sample_prior_predictive(samples=100, random_seed=SEED)\n",
    "    posterior_2 = pm.sample(\n",
    "        draws=1000,\n",
    "        tune=1000,\n",
    "        init=\"adapt_diag\",\n",
    "        return_inferencedata=True,\n",
    "        target_accept=0.9,\n",
    "        random_seed=SEED,\n",
    "    )\n",
    "    posterior_prediction_2 = pm.sample_posterior_predictive(\n",
    "        posterior_2, random_seed=SEED\n",
    "    )"
   ]
  },
  {
   "cell_type": "code",
   "execution_count": null,
   "metadata": {},
   "outputs": [],
   "source": [
    "graph_2 = pm.model_to_graphviz(model_2)\n",
    "graph_2"
   ]
  },
  {
   "cell_type": "markdown",
   "metadata": {},
   "source": [
    "## Prior predictive check"
   ]
  },
  {
   "cell_type": "code",
   "execution_count": null,
   "metadata": {},
   "outputs": [],
   "source": [
    "prior = prior_2[\"prior\"]\n",
    "x = xr.DataArray(np.linspace(-5, 5, 100), dims=[\"x\"])\n",
    "y = prior[\"β_P\"][:, :, 0, 0] + prior[\"β_P\"][:, :, 0, 1] * x\n",
    "_, ax = plt.subplots()\n",
    "ax.plot(x, y.stack(sample=(\"chain\", \"draw\")), c=\"k\", alpha=0.1)\n",
    "ax.set_xlabel(\"W\")\n",
    "ax.set_ylabel(\"μ_P\")"
   ]
  },
  {
   "cell_type": "code",
   "execution_count": null,
   "metadata": {},
   "outputs": [],
   "source": [
    "x = xr.DataArray(np.linspace(-5, 5, 100), dims=[\"x\"])\n",
    "y = prior[\"β_O\"][:, :, 0, 0] + prior[\"β_O\"][:, :, 0, 1] * x\n",
    "_, ax = plt.subplots()\n",
    "ax.plot(x, y.stack(sample=(\"chain\", \"draw\")), c=\"k\", alpha=0.1)\n",
    "ax.set_xlabel(\"W\")\n",
    "ax.set_ylabel(\"μ_O\")"
   ]
  },
  {
   "cell_type": "markdown",
   "metadata": {},
   "source": [
    "## Posterior predictive check"
   ]
  },
  {
   "cell_type": "code",
   "execution_count": null,
   "metadata": {},
   "outputs": [],
   "source": [
    "az.plot_ppc(posterior_prediction_2)"
   ]
  },
  {
   "cell_type": "markdown",
   "metadata": {},
   "source": [
    "## Trace plots"
   ]
  },
  {
   "cell_type": "code",
   "execution_count": null,
   "metadata": {},
   "outputs": [],
   "source": [
    "az.summary(posterior_2, hdi_prob=0.95)"
   ]
  },
  {
   "cell_type": "code",
   "execution_count": null,
   "metadata": {
    "collapsed": false
   },
   "outputs": [],
   "source": [
    "az.plot_posterior(posterior_2, var_names=\"β_O\", grid=(12, 2))\n",
    "az.plot_trace(posterior_2)\n",
    "az.plot_forest(posterior_2, combined=True, hdi_prob=0.95)"
   ]
  }
 ],
 "metadata": {
  "kernelspec": {
   "display_name": "Python 3.10.6 ('socio-ethnic_segregation')",
   "language": "python",
   "name": "python3"
  },
  "language_info": {
   "codemirror_mode": {
    "name": "ipython",
    "version": 3
   },
   "file_extension": ".py",
   "mimetype": "text/x-python",
   "name": "python",
   "nbconvert_exporter": "python",
   "pygments_lexer": "ipython3",
   "version": "3.10.6"
  },
  "vscode": {
   "interpreter": {
    "hash": "c6f6ad1d89260850848b48f3bc4432e78364cda8546f5a5e66bc8fb56dd3ebe1"
   }
  }
 },
 "nbformat": 4,
 "nbformat_minor": 1
}
